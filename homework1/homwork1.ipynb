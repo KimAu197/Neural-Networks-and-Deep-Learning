{
 "cells": [
  {
   "cell_type": "markdown",
   "metadata": {},
   "source": [
    "# <center> Lab 1 – The Basics of Python and Pytorch </center>"
   ]
  },
  {
   "cell_type": "markdown",
   "metadata": {},
   "source": [
    "This lab aims to help the students refresh the basics of python, particularly, NumPy. You may use python\n",
    "functions to answer these questions, e.g., np.sum, torch.sigmoid, etc. But all the algorithm should be implemented\n",
    "by yourself unless otherwise specified, e .g., you s hould w rite ad ataset c lass i nstead o f u sing pytorch D ataset class\n",
    "in Problem 17. Please write the report, including the codes, and screen-shot the results, and upload to eLearning,\n",
    "by 17:00 April 12th, 2023."
   ]
  },
  {
   "cell_type": "markdown",
   "metadata": {},
   "source": [
    "#### 1. Write a Python function to sum all the numbers in a list."
   ]
  },
  {
   "cell_type": "code",
   "execution_count": 1,
   "metadata": {},
   "outputs": [
    {
     "name": "stdout",
     "output_type": "stream",
     "text": [
      "Sum of numbers in the list: 15\n"
     ]
    }
   ],
   "source": [
    "def sum(numbers):\n",
    "    total = 0\n",
    "    for num in numbers:\n",
    "        total += num\n",
    "    return total\n",
    "\n",
    "#eg:\n",
    "list1 = [1, 2, 3, 4, 5]\n",
    "print(\"Sum of numbers in the list:\", sum(list1))"
   ]
  },
  {
   "cell_type": "markdown",
   "metadata": {},
   "source": [
    "#### 2. Write a Python function that takes a list and returns a new list with unique elements of the first list.\n",
    "\n",
    "e.g.,\n",
    "\n",
    "Input:[1, 2, 3, 3, 3, 3, 4, 5].\n",
    "\n",
    "Output: [1, 2, 3, 4, 5]."
   ]
  },
  {
   "cell_type": "code",
   "execution_count": 2,
   "metadata": {},
   "outputs": [
    {
     "name": "stdout",
     "output_type": "stream",
     "text": [
      "[1, 2, 3, 4, 5]\n"
     ]
    }
   ],
   "source": [
    "def unique_list(input):\n",
    "    return list(set(input))\n",
    "\n",
    "#eg:\n",
    "input = [1,2,3,3,3,3,4,5]\n",
    "output = unique_list(input)\n",
    "print(output)"
   ]
  },
  {
   "cell_type": "markdown",
   "metadata": {},
   "source": [
    "#### 3. Write a Python function that checks whether a passed string is palindrome or not. \n",
    "A palindrome is a word,\n",
    "phrase, or sequence that reads the same backward as forward. For example, both “madam” and “nurses run”\n",
    "are palindromes."
   ]
  },
  {
   "cell_type": "code",
   "execution_count": 61,
   "metadata": {},
   "outputs": [
    {
     "name": "stdout",
     "output_type": "stream",
     "text": [
      "Is \"madam\" a palindrome? True\n",
      "Is \"nurses run\" a palindrome? True\n",
      "Is \"hihisoweu\" a palindrome? False\n"
     ]
    }
   ],
   "source": [
    "def is_palindrome(string):\n",
    "    processed_string = ''.join(char.lower() for char in string if char.isalnum())\n",
    "    \n",
    "    return processed_string == processed_string[::-1]\n",
    "\n",
    "#eg:\n",
    "string1 = \"madam\"\n",
    "string2 = \"nurses run\"\n",
    "string3 = \"hihisoweu\"\n",
    "print(f'Is \"{string1}\" a palindrome? {is_palindrome(string1)}')\n",
    "print(f'Is \"{string2}\" a palindrome? {is_palindrome(string2)}')\n",
    "print(f'Is \"{string3}\" a palindrome? {is_palindrome(string3)}')"
   ]
  },
  {
   "cell_type": "markdown",
   "metadata": {},
   "source": [
    "#### 4. Write a NumPy program to find the real and imaginary parts of an array of complex numbers.\n",
    "e.g.,\n",
    "\n",
    "Input: array [ 1.00000000+0.j 0.70710678+0.70710678j]\n",
    "\n",
    "Output: array [[1, 0], [0.70710678, 0.70710678]]"
   ]
  },
  {
   "cell_type": "code",
   "execution_count": 14,
   "metadata": {},
   "outputs": [
    {
     "name": "stdout",
     "output_type": "stream",
     "text": [
      "Input array: array [1.        +0.j         0.70710678+0.70710678j]\n",
      "output: array [[1.         0.        ]\n",
      " [0.70710678 0.70710678]]\n"
     ]
    }
   ],
   "source": [
    "import numpy as np\n",
    "\n",
    "def find_real_imag(array):\n",
    "    real = np.real(array)\n",
    "    imag = np.imag(array)\n",
    "    return np.array([real, imag]).T\n",
    "\n",
    "# Example usage:\n",
    "input_array = np.array([1.00000000+0.j, 0.70710678+0.70710678j])\n",
    "real_imag_array = find_real_imag(input_array)\n",
    "print(\"Input array: array\", input_array)\n",
    "print(\"output: array\", real_imag_array)\n"
   ]
  },
  {
   "cell_type": "markdown",
   "metadata": {},
   "source": [
    "#### 5. Write a Python program to add two binary numbers.\n",
    "\n",
    "e.g.,\n",
    "\n",
    "Input : (’11’, ’1’)\n",
    "\n",
    "Output : 100"
   ]
  },
  {
   "cell_type": "code",
   "execution_count": 62,
   "metadata": {},
   "outputs": [
    {
     "name": "stdout",
     "output_type": "stream",
     "text": [
      "Input: ('11', '1')\n",
      "Output: 100\n"
     ]
    }
   ],
   "source": [
    "def add_binary(bin1, bin2):\n",
    "\n",
    "    num1 = int(bin1, 2)\n",
    "    num2 = int(bin2, 2)\n",
    "    sum_decimal = num1 + num2\n",
    "\n",
    "    result_binary = bin(sum_decimal)[2:]\n",
    "    \n",
    "    return result_binary\n",
    "\n",
    "#eg:\n",
    "binary1 = '11'\n",
    "binary2 = '1'\n",
    "print(\"Input:\", (binary1, binary2))\n",
    "print(\"Output:\", add_binary(binary1, binary2))\n"
   ]
  },
  {
   "cell_type": "markdown",
   "metadata": {},
   "source": [
    "#### 6. You are given two non-empty linked lists representing two non-negative integers. \n",
    "The digits are stored in\n",
    "reverse order and each of their nodes contain a single digit. Add the two numbers and return it as a linked\n",
    "list. You may assume the two numbers do not contain any leading zero, except the number 0 itself.\n",
    "\n",
    "e.g.,\n",
    "\n",
    "Input: (2 -> 4 -> 3) + (5 -> 6 -> 4)\n",
    "\n",
    "Output: 7 -> 0 -> 8\n",
    "\n"
   ]
  },
  {
   "cell_type": "code",
   "execution_count": 21,
   "metadata": {},
   "outputs": [
    {
     "name": "stdout",
     "output_type": "stream",
     "text": [
      "7 -> 0 -> 8\n"
     ]
    }
   ],
   "source": [
    "class ListNode:\n",
    "    def __init__(self, val=0, next=None):\n",
    "        self.val = val\n",
    "        self.next = next\n",
    "\n",
    "def addTwoNumbers(l1, l2):\n",
    "    head = ListNode(0)\n",
    "    current = head\n",
    "    carry = 0\n",
    "\n",
    "    while l1 or l2:\n",
    "        val1 = l1.val if l1 else 0\n",
    "        val2 = l2.val if l2 else 0\n",
    "        total = val1 + val2 + carry\n",
    "        carry = total // 10\n",
    "        remainder = total % 10\n",
    "\n",
    "        current.next = ListNode(remainder)\n",
    "        current = current.next\n",
    "\n",
    "        if l1:\n",
    "            l1 = l1.next\n",
    "        if l2:\n",
    "            l2 = l2.next\n",
    "\n",
    "    if carry > 0:\n",
    "        current.next = ListNode(carry)\n",
    "\n",
    "    return head.next\n",
    "\n",
    "#eg:\n",
    "l1 = ListNode(2)\n",
    "l1.next = ListNode(4)\n",
    "l1.next.next = ListNode(3)\n",
    "\n",
    "l2 = ListNode(5)\n",
    "l2.next = ListNode(6)\n",
    "l2.next.next = ListNode(4)\n",
    "\n",
    "\n",
    "result = addTwoNumbers(l1, l2)\n",
    "\n",
    "\n",
    "while result:\n",
    "    if result.next:\n",
    "        print(result.val, end=\" -> \")\n",
    "    else:\n",
    "        print(result.val)\n",
    "    result = result.next\n"
   ]
  },
  {
   "cell_type": "markdown",
   "metadata": {},
   "source": [
    "#### 7. Implement bubble sort"
   ]
  },
  {
   "cell_type": "code",
   "execution_count": 22,
   "metadata": {},
   "outputs": [
    {
     "name": "stdout",
     "output_type": "stream",
     "text": [
      "[11, 12, 22, 25, 34, 64, 90]\n"
     ]
    }
   ],
   "source": [
    "def bubble_sort(arr):\n",
    "    n = len(arr)\n",
    "    for i in range(n):\n",
    "        for j in range(0, n-i-1):\n",
    "            if arr[j] > arr[j+1]:\n",
    "                arr[j], arr[j+1] = arr[j+1], arr[j]\n",
    "    return arr\n",
    "\n",
    "#eg:\n",
    "example_array = [64, 34, 25, 12, 22, 11, 90]\n",
    "sorted_array = bubble_sort(example_array)\n",
    "print(sorted_array)\n"
   ]
  },
  {
   "cell_type": "markdown",
   "metadata": {},
   "source": [
    "#### 8. Implement merge sort"
   ]
  },
  {
   "cell_type": "code",
   "execution_count": 25,
   "metadata": {},
   "outputs": [
    {
     "name": "stdout",
     "output_type": "stream",
     "text": [
      "[3, 9, 10, 27, 38, 43, 82]\n"
     ]
    }
   ],
   "source": [
    "def merge_sort(arr):\n",
    "    if len(arr) > 1:\n",
    "        mid = len(arr) // 2 \n",
    "        L = arr[:mid]  \n",
    "        R = arr[mid:]\n",
    "\n",
    "        merge_sort(L)  \n",
    "        merge_sort(R)  \n",
    "        i = j = k = 0\n",
    "\n",
    "        while i < len(L) and j < len(R):\n",
    "            if L[i] < R[j]:\n",
    "                arr[k] = L[i]\n",
    "                i += 1\n",
    "            else:\n",
    "                arr[k] = R[j]\n",
    "                j += 1\n",
    "            k += 1\n",
    "\n",
    "        while i < len(L):\n",
    "            arr[k] = L[i]\n",
    "            i += 1\n",
    "            k += 1\n",
    "\n",
    "        while j < len(R):\n",
    "            arr[k] = R[j]\n",
    "            j += 1\n",
    "            k += 1\n",
    "\n",
    "    return arr\n",
    "\n",
    "#eg:\n",
    "input = [38, 27, 43, 3, 9, 82, 10]\n",
    "output = merge_sort(input)\n",
    "print(output)\n"
   ]
  },
  {
   "cell_type": "markdown",
   "metadata": {},
   "source": [
    "#### 9. Implement quick sort"
   ]
  },
  {
   "cell_type": "code",
   "execution_count": 26,
   "metadata": {},
   "outputs": [
    {
     "name": "stdout",
     "output_type": "stream",
     "text": [
      "[10, 21, 57, 72, 80, 91]\n"
     ]
    }
   ],
   "source": [
    "def quick_sort(arr):\n",
    "    if len(arr) <= 1:\n",
    "        return arr\n",
    "    else:\n",
    "        pivot = arr[0]\n",
    "        less = [x for x in arr[1:] if x < pivot]\n",
    "        equal = [x for x in arr if x == pivot]\n",
    "        greater = [x for x in arr[1:] if x > pivot]\n",
    "        return quick_sort(less) + equal + quick_sort(greater)\n",
    "\n",
    "#eg:\n",
    "input = [10, 72, 80, 91, 21, 57]\n",
    "output = quick_sort(input)\n",
    "print(output)\n"
   ]
  },
  {
   "cell_type": "markdown",
   "metadata": {},
   "source": [
    "#### 10. Implement shell sort"
   ]
  },
  {
   "cell_type": "code",
   "execution_count": 27,
   "metadata": {},
   "outputs": [
    {
     "name": "stdout",
     "output_type": "stream",
     "text": [
      "[2, 3, 12, 34, 54]\n"
     ]
    }
   ],
   "source": [
    "def shell_sort(arr):\n",
    "    n = len(arr)\n",
    "    gap = n // 2  \n",
    "\n",
    "    while gap > 0:\n",
    "        for i in range(gap, n):\n",
    "            temp = arr[i]\n",
    "\n",
    "            j = i\n",
    "            while j >= gap and arr[j - gap] > temp:\n",
    "                arr[j] = arr[j - gap]\n",
    "                j -= gap\n",
    "\n",
    "            arr[j] = temp\n",
    "        gap //= 2\n",
    "\n",
    "    return arr\n",
    "\n",
    "#eg:\n",
    "input = [12, 34, 54, 2, 3]\n",
    "output = shell_sort(input)\n",
    "print(output)\n"
   ]
  },
  {
   "cell_type": "markdown",
   "metadata": {},
   "source": [
    "#### 11. Implement linear regression model and use autograd to optimize it by Pytorch."
   ]
  },
  {
   "cell_type": "code",
   "execution_count": null,
   "metadata": {},
   "outputs": [],
   "source": [
    "import torch\n",
    "\n",
    "input = ...\n",
    "output = ...\n",
    "num_epoch = ...\n",
    "x_data = ...\n",
    "y_data = ...\n",
    "class LinearRegressionModel(torch.nn.Module):\n",
    "    def __init__(self):\n",
    "        super(LinearRegressionModel, self).__init__()\n",
    "        self.linear = torch.nn.Linear(input, output)  # 输入和输出的维度都是1\n",
    "\n",
    "    def forward(self, x):\n",
    "        y_pred = self.linear(x)\n",
    "        return y_pred\n",
    "\n",
    "\n",
    "model = LinearRegressionModel()\n",
    "\n",
    "criterion = torch.nn.MSELoss(size_average=False)\n",
    "optimizer = torch.optim.SGD(model.parameters(), lr=0.01)\n",
    "\n",
    "# 训练模型\n",
    "for epoch in range(num_epoch):\n",
    "\n",
    "    y_pred = model(x_data)\n",
    "\n",
    "    loss = criterion(y_pred, y_data)\n",
    "    print(epoch, loss.data)\n",
    "\n",
    "    optimizer.zero_grad()\n",
    "    loss.backward()\n",
    "    optimizer.step()\n",
    "\n"
   ]
  },
  {
   "cell_type": "markdown",
   "metadata": {},
   "source": [
    "#### 12. Implement logistic regression model and use autograd to optimize it by Pytorch."
   ]
  },
  {
   "cell_type": "code",
   "execution_count": null,
   "metadata": {},
   "outputs": [],
   "source": [
    "from torch import nn\n",
    "import torch.optim as optim\n",
    "from torch.utils.data import Dataset, DataLoader\n",
    "import torch.nn.functional as F\n",
    "\n",
    "batch_size = ...\n",
    "input_size = ...\n",
    "output_size = ...\n",
    "lr_rate = ...\n",
    "num_epochs = ...\n",
    "train_dataset = ...\n",
    "\n",
    "train_loader = DataLoader(train_dataset, batch_size=batch_size, shuffle=True)\n",
    "\n",
    "\n",
    "class LogisticRegression(nn.Module):\n",
    "    def __init__(self, input_size, output_size):\n",
    "        super(LogisticRegression, self).__init__()\n",
    "        self.linear = nn.Linear(input_size, output_size)\n",
    "\n",
    "    def forward(self, x):\n",
    "        return F.softmax(self.linear(x))\n",
    "\n",
    "model = LogisticRegression(input_size, output_size)\n",
    "# 损失函数和优化器\n",
    "criterion = nn.CrossEntropyLoss()\n",
    "optimizer = optim.Adam(model.parameters(), lr=lr_rate)\n",
    "\n",
    "for epoch in range(num_epochs):\n",
    "    for data in train_loader:\n",
    "        imgs, targets = data\n",
    "        output = model(imgs)\n",
    "        loss = criterion(output, targets)\n",
    "\n",
    "        optimizer.zero_grad()\n",
    "        loss.backward()\n",
    "        optimizer.step()\n"
   ]
  },
  {
   "cell_type": "markdown",
   "metadata": {},
   "source": [
    "#### 13. Implement linear SVM model for binary classification task and use autograd to optimize it by Pytorch.\n",
    "Hint: you may use the loss of  \n",
    "$$ ∑ max [0, 1 − y (wx + b) $$"
   ]
  },
  {
   "cell_type": "code",
   "execution_count": null,
   "metadata": {},
   "outputs": [],
   "source": [
    "import torch\n",
    "\n",
    "input = ...\n",
    "output = ...\n",
    "x_data = ...\n",
    "y_data = ...\n",
    "num_epoch = ...\n",
    "\n",
    "\n",
    "class LinearSVM(torch.nn.Module):\n",
    "    def __init__(self):\n",
    "        super(LinearSVM, self).__init__()\n",
    "        self.linear = torch.nn.Linear(input, output)\n",
    "\n",
    "    def forward(self, x):\n",
    "        return self.linear(x)\n",
    "\n",
    "model = LinearSVM()\n",
    "\n",
    "\n",
    "def svm_loss(outputs, labels):\n",
    "    return torch.sum(max(1 - outputs.t() * labels, 0))\n",
    "\n",
    "optimizer = torch.optim.SGD(model.parameters(), lr=0.01)\n",
    "\n",
    "\n",
    "for epoch in range(num_epoch):\n",
    "    optimizer.zero_grad()\n",
    "    outputs = model(x_data)\n",
    "    loss = svm_loss(outputs, y_data)\n",
    "    loss.backward()\n",
    "    optimizer.step()\n",
    "\n",
    "\n"
   ]
  },
  {
   "cell_type": "markdown",
   "metadata": {},
   "source": [
    "#### 14. Add a Frobenius norm penalty for the weight w in your SVM model by two different ways: \n",
    "(1) use a pytorchfunction to calculate the norm; \n",
    "\n",
    "(2) implement the code by yourself."
   ]
  },
  {
   "cell_type": "code",
   "execution_count": null,
   "metadata": {},
   "outputs": [],
   "source": [
    "model = ...()\n",
    "\n",
    "def svm_loss_with_Fro(outputs, labels, model, lamda):\n",
    "    loss = torch.sum(max(1 - outputs.t() * labels, min=0))\n",
    "    frobenius_norm = lamda * torch.norm(model.linear.weight, p='fro')\n",
    "    return loss + frobenius_norm\n",
    "\n",
    "optimizer = ...\n",
    "\n",
    "for epoch in range(num_epoch):\n",
    "    optimizer.zero_grad()\n",
    "    outputs = model(x_data)\n",
    "    loss = svm_loss_with_Fro(outputs, y_data)\n",
    "    loss.backward()\n",
    "    optimizer.step()\n",
    "\n"
   ]
  },
  {
   "cell_type": "code",
   "execution_count": null,
   "metadata": {},
   "outputs": [],
   "source": [
    "model = ...()\n",
    "\n",
    "def frobenius_norm(tensor):\n",
    "    return torch.sqrt(torch.sum(tensor ** 2))\n",
    "\n",
    "def svm_loss_with_Fro_myself(outputs, labels, model, penalty_strength):\n",
    "    loss = torch.sum(max(1 - outputs.t() * labels, 0))\n",
    "    frobenius_norm = penalty_strength * frobenius_norm(model.linear.weight)\n",
    "    return loss + frobenius_norm\n",
    "\n",
    "for epoch in range(num_epoch):\n",
    "    optimizer.zero_grad()\n",
    "    outputs = model(x_data)\n",
    "    loss = svm_loss_with_Fro_myself(outputs, y_data)\n",
    "    loss.backward()\n",
    "    optimizer.step()\n",
    "\n",
    "\n"
   ]
  },
  {
   "cell_type": "markdown",
   "metadata": {},
   "source": [
    "#### 15. Learn how to use linear regression1, logistic regression2, and SVM3 by scikit-learn."
   ]
  },
  {
   "cell_type": "code",
   "execution_count": 2,
   "metadata": {},
   "outputs": [
    {
     "name": "stdout",
     "output_type": "stream",
     "text": [
      "1.0\n",
      "[1. 2.]\n",
      "3.0000000000000018\n",
      "[16.]\n"
     ]
    }
   ],
   "source": [
    "import numpy as np\n",
    "from sklearn.linear_model import LinearRegression\n",
    "X = np.array([[1, 1], [1, 2], [2, 2], [2, 3]])\n",
    "# y = 1 * x_0 + 2 * x_1 + 3\n",
    "y = np.dot(X, np.array([1, 2])) + 3\n",
    "reg = LinearRegression().fit(X, y)\n",
    "print(reg.score(X, y))\n",
    "print(reg.coef_)\n",
    "print(reg.intercept_)\n",
    "print(reg.predict(np.array([[3, 5]])))"
   ]
  },
  {
   "cell_type": "code",
   "execution_count": 3,
   "metadata": {},
   "outputs": [
    {
     "name": "stdout",
     "output_type": "stream",
     "text": [
      "[0 0]\n",
      "[[9.81815544e-01 1.81844418e-02 1.44068502e-08]\n",
      " [9.71757838e-01 2.82421315e-02 3.01278911e-08]]\n",
      "0.9733333333333334\n"
     ]
    },
    {
     "name": "stderr",
     "output_type": "stream",
     "text": [
      "c:\\Users\\Kim\\anaconda3\\envs\\cs231n\\lib\\site-packages\\sklearn\\linear_model\\_logistic.py:460: ConvergenceWarning: lbfgs failed to converge (status=1):\n",
      "STOP: TOTAL NO. of ITERATIONS REACHED LIMIT.\n",
      "\n",
      "Increase the number of iterations (max_iter) or scale the data as shown in:\n",
      "    https://scikit-learn.org/stable/modules/preprocessing.html\n",
      "Please also refer to the documentation for alternative solver options:\n",
      "    https://scikit-learn.org/stable/modules/linear_model.html#logistic-regression\n",
      "  n_iter_i = _check_optimize_result(\n"
     ]
    }
   ],
   "source": [
    "from sklearn.datasets import load_iris\n",
    "from sklearn.linear_model import LogisticRegression\n",
    "X, y = load_iris(return_X_y=True) ## 鸢尾花数据集\n",
    "clf = LogisticRegression(random_state=0).fit(X, y)\n",
    "print(clf.predict(X[:2, :]))\n",
    "print(clf.predict_proba(X[:2, :]))\n",
    "print(clf.score(X, y))"
   ]
  },
  {
   "cell_type": "code",
   "execution_count": 5,
   "metadata": {},
   "outputs": [
    {
     "name": "stdout",
     "output_type": "stream",
     "text": [
      "[1]\n"
     ]
    }
   ],
   "source": [
    "import numpy as np\n",
    "from sklearn.pipeline import make_pipeline\n",
    "from sklearn.preprocessing import StandardScaler\n",
    "X = np.array([[-1, -1], [-2, -1], [1, 1], [2, 1]])\n",
    "y = np.array([1, 1, 2, 2])\n",
    "from sklearn.svm import SVC\n",
    "clf = make_pipeline(StandardScaler(), SVC(gamma='auto'))\n",
    "clf.fit(X, y)\n",
    "print(clf.predict([[-0.8, -1]]))"
   ]
  },
  {
   "cell_type": "markdown",
   "metadata": {},
   "source": [
    "#### 16. Download CIFAR-10 dataset4 and visualize some of its images."
   ]
  },
  {
   "cell_type": "code",
   "execution_count": 10,
   "metadata": {},
   "outputs": [
    {
     "name": "stdout",
     "output_type": "stream",
     "text": [
      "Files already downloaded and verified\n",
      "Files already downloaded and verified\n",
      "训练集的长度为：50000\n",
      "测试集的长度为：10000\n"
     ]
    },
    {
     "data": {
      "image/png": "[encoded data removed]",
      "text/plain": [
       "<Figure size 1000x1000 with 9 Axes>"
      ]
     },
     "metadata": {},
     "output_type": "display_data"
    }
   ],
   "source": [
    "import torchvision\n",
    "import torch\n",
    "import torch.nn as nn\n",
    "import torch.nn.functional as F\n",
    "import torch.utils.data as Data\n",
    "import matplotlib.pyplot as plt\n",
    "\n",
    "train_data = torchvision.datasets.CIFAR10(\"./data\", train=True, transform=torchvision.transforms.ToTensor(), download=True)\n",
    "test_data = torchvision.datasets.CIFAR10(\"./data\", train=False, transform=torchvision.transforms.ToTensor(), download=True)\n",
    "\n",
    "train_data_size = len(train_data)\n",
    "test_data_size = len(test_data)\n",
    "\n",
    "print(\"训练集的长度为：{}\".format(train_data_size))\n",
    "print(\"测试集的长度为：{}\".format(test_data_size))\n",
    "\n",
    "\n",
    "classes = train_data.classes\n",
    "\n",
    "\n",
    "fig, axes = plt.subplots(3, 3, figsize=(10, 10))\n",
    "\n",
    "\n",
    "for i, ax in enumerate(axes.flat):\n",
    "    image, label = train_data[i]\n",
    "    # （CIFAR-10数据集的图片通道顺序为(C, H, W)，需要转换为(H, W, C)）\n",
    "    image_np = image.permute(1, 2, 0).numpy()\n",
    "    ax.imshow(image_np)\n",
    "    ax.set_title(f\"Label: {classes[label]}\")  # 使用类别名称替换索引值\n",
    "    ax.axis('off')\n",
    "\n",
    "plt.show()\n"
   ]
  },
  {
   "cell_type": "markdown",
   "metadata": {},
   "source": [
    "#### 17. Write a dataset class for loading CIFAR-10. Make sure it could be transferred to Pytorch Dataloader. \n",
    "Theclass should meet the following requirements:\n",
    "\n",
    " (1) Inherit pytorch’s DataSet class; \n",
    " \n",
    " (2) Load the image file and save in proper way;\n",
    " \n",
    "  (3) Override __getitem__ and __len__ methods.\n",
    "  \n",
    "Hint: If you find this part a little hard, check the official code5 and make sure you understand each part."
   ]
  },
  {
   "cell_type": "code",
   "execution_count": null,
   "metadata": {},
   "outputs": [],
   "source": [
    "import torch\n",
    "from torch.utils.data import Dataset\n",
    "from torchvision import datasets\n",
    "from torchvision.transforms import ToTensor\n",
    "# 如果直接load网上文件的话\n",
    "class loadingCIFAR10Dataset(Dataset):\n",
    "    def __init__(self, root, train=True, transform=None, target_transform=None, download=False):\n",
    "        self.dataset = datasets.CIFAR10(root=root, train=train, transform=transform, target_transform=target_transform, download=download)\n",
    "    \n",
    "    def __getitem__(self, index):\n",
    "        image, target = self.dataset[index]\n",
    "\n",
    "        return image, target\n",
    "    \n",
    "    def __len__(self):\n",
    "        return len(self.dataset)\n",
    "\n",
    "\n",
    "# 保存的路径\n",
    "root = './data'\n",
    "\n",
    "transform = ToTensor()\n",
    "\n",
    "train_dataset = loadingCIFAR10Dataset(root=root, train=True, transform=transform, download=True)\n",
    "\n",
    "# Create a PyTorch DataLoader using the custom dataset\n",
    "train_loader = torch.utils.data.DataLoader(train_dataset, batch_size=64, shuffle=True)\n"
   ]
  },
  {
   "cell_type": "code",
   "execution_count": null,
   "metadata": {},
   "outputs": [],
   "source": [
    "import os\n",
    "from PIL import Image\n",
    "import torch\n",
    "from torch.utils.data import Dataset\n",
    "# 如果load传入直接是图片\n",
    "class LoadingCIFAR10ImageDataset(Dataset):\n",
    "    def __init__(self, root_dir, transform=None):\n",
    "        self.root_dir = root_dir\n",
    "        self.transform = transform\n",
    "        self.images = []\n",
    "        \n",
    "        for root, _, files in os.walk(root_dir):\n",
    "            for file in files:\n",
    "                if file.endswith(\".png\"):\n",
    "                    self.images.append(os.path.join(root, file))\n",
    "    \n",
    "    def __len__(self):\n",
    "        return len(self.images)\n",
    "    \n",
    "    def __getitem__(self, idx):\n",
    "        img_path = self.images[idx]\n",
    "        image = Image.open(img_path)\n",
    "        \n",
    "        if self.transform:\n",
    "            image = self.transform(image)\n",
    "        \n",
    "        # 假设label在文件名字里\n",
    "        target = img_path.split('/')[-1].split('_')[0] \n",
    "        \n",
    "        return image, target\n",
    "\n",
    "\n",
    "root_dir = './data'\n",
    "\n",
    "custom_dataset = LoadingCIFAR10ImageDataset(root_dir, transform=transform.ToTensor())\n",
    "\n",
    "# Create a PyTorch DataLoader using the custom image dataset\n",
    "data_loader = torch.utils.data.DataLoader(custom_dataset, batch_size=64, shuffle=True)\n"
   ]
  },
  {
   "cell_type": "markdown",
   "metadata": {},
   "source": [
    "#### 18. Read6 and learn how to use torchvision.transforms to transform images."
   ]
  },
  {
   "cell_type": "code",
   "execution_count": 12,
   "metadata": {},
   "outputs": [
    {
     "name": "stdout",
     "output_type": "stream",
     "text": [
      "tensor([[[0., 0., 0.,  ..., 0., 0., 0.],\n",
      "         [0., 0., 0.,  ..., 0., 0., 0.],\n",
      "         [0., 0., 0.,  ..., 0., 0., 0.],\n",
      "         ...,\n",
      "         [0., 0., 0.,  ..., 0., 0., 0.],\n",
      "         [0., 0., 0.,  ..., 0., 0., 0.],\n",
      "         [0., 0., 0.,  ..., 0., 0., 0.]],\n",
      "\n",
      "        [[0., 0., 0.,  ..., 0., 0., 0.],\n",
      "         [0., 0., 0.,  ..., 0., 0., 0.],\n",
      "         [0., 0., 0.,  ..., 0., 0., 0.],\n",
      "         ...,\n",
      "         [0., 0., 0.,  ..., 0., 0., 0.],\n",
      "         [0., 0., 0.,  ..., 0., 0., 0.],\n",
      "         [0., 0., 0.,  ..., 0., 0., 0.]],\n",
      "\n",
      "        [[0., 0., 0.,  ..., 0., 0., 0.],\n",
      "         [0., 0., 0.,  ..., 0., 0., 0.],\n",
      "         [0., 0., 0.,  ..., 0., 0., 0.],\n",
      "         ...,\n",
      "         [0., 0., 0.,  ..., 0., 0., 0.],\n",
      "         [0., 0., 0.,  ..., 0., 0., 0.],\n",
      "         [0., 0., 0.,  ..., 0., 0., 0.]],\n",
      "\n",
      "        [[0., 0., 0.,  ..., 0., 0., 0.],\n",
      "         [0., 0., 0.,  ..., 0., 0., 0.],\n",
      "         [0., 0., 0.,  ..., 0., 0., 0.],\n",
      "         ...,\n",
      "         [0., 0., 0.,  ..., 0., 0., 0.],\n",
      "         [0., 0., 0.,  ..., 0., 0., 0.],\n",
      "         [0., 0., 0.,  ..., 0., 0., 0.]]])\n"
     ]
    },
    {
     "data": {
      "image/png": "[encoded data removed]",
      "text/plain": [
       "<Figure size 640x480 with 1 Axes>"
      ]
     },
     "metadata": {},
     "output_type": "display_data"
    }
   ],
   "source": [
    "from torchvision import transforms\n",
    "## 将PIL变成tensor\n",
    "from PIL import Image\n",
    "\n",
    "img_path = \"kunkun.png\"\n",
    "img = Image.open(img_path)\n",
    "\n",
    "tensor_trans = transforms.ToTensor() # 实例化\n",
    "tensor_img = tensor_trans(img)\n",
    "print(tensor_img)\n",
    "\n",
    "plt.imshow(tensor_img.permute(1, 2, 0))  # 将张量的通道顺序从(C, H, W)转换为(H, W, C)，并显示\n",
    "plt.axis('off')\n",
    "plt.show()"
   ]
  },
  {
   "cell_type": "code",
   "execution_count": 37,
   "metadata": {},
   "outputs": [
    {
     "name": "stderr",
     "output_type": "stream",
     "text": [
      "Clipping input data to the valid range for imshow with RGB data ([0..1] for floats or [0..255] for integers).\n"
     ]
    },
    {
     "data": {
      "image/png": "[encoded data removed]",
      "text/plain": [
       "<Figure size 640x480 with 1 Axes>"
      ]
     },
     "metadata": {},
     "output_type": "display_data"
    },
    {
     "name": "stdout",
     "output_type": "stream",
     "text": [
      "(800, 800)\n",
      "第一个方法： torch.Size([4, 200, 200])\n",
      "第二个方法: torch.Size([4, 200, 200])\n"
     ]
    },
    {
     "name": "stderr",
     "output_type": "stream",
     "text": [
      "c:\\Users\\Kim\\anaconda3\\envs\\cs231n\\lib\\site-packages\\torchvision\\transforms\\functional.py:1603: UserWarning: The default value of the antialias parameter of all the resizing transforms (Resize(), RandomResizedCrop(), etc.) will change from None to True in v0.17, in order to be consistent across the PIL and Tensor backends. To suppress this warning, directly pass antialias=True (recommended, future default), antialias=None (current default, which means False for Tensors and True for PIL), or antialias=False (only works on Tensors - PIL will still use antialiasing). This also applies if you are using the inference transforms from the models weights: update the call to weights.transforms(antialias=True).\n",
      "  warnings.warn(\n"
     ]
    }
   ],
   "source": [
    "from PIL import Image\n",
    "from torchvision import transforms\n",
    "\n",
    "# Normalize 标准化 归一化\n",
    "trans_norm =transforms.Normalize((0.1, 0.5, 0.5, 0), (0.5, 0.5, 0.5, 1))\n",
    "img_norm = trans_norm(tensor_img)\n",
    "## 展示\n",
    "plt.imshow(img_norm.permute(1, 2, 0))  \n",
    "plt.axis('off')\n",
    "plt.show()  ## 我们可以得到一只红温kunkun\n",
    "\n",
    "# Resize\n",
    "print(img.size)\n",
    "trans_resize = transforms.Resize((200,200))\n",
    "img_resize = trans_resize(tensor_img)\n",
    "print(\"第一个方法：\",img_resize.size())\n",
    "\n",
    "## Compose - resize - 2\n",
    "trans_resize_2 = transforms.Resize(200)\n",
    "trans_compose = transforms.Compose([trans_resize_2, tensor_trans]) #输入需要是一个列表 第一个是大小 第二个是类型 两个过程合并、、\n",
    "img_resize_2 = trans_compose(img)\n",
    "print(\"第二个方法:\",img_resize_2.size())\n",
    "\n"
   ]
  },
  {
   "cell_type": "markdown",
   "metadata": {},
   "source": [
    "#### 19. Run one epoch for loading CIFAR-10 with Pytorch Dataloader and test the loading time of different batch_size\n",
    "(1, 4, 64, 1024), different num_workers (0,1,4,16), and whether use pin_memory or not."
   ]
  },
  {
   "cell_type": "code",
   "execution_count": 39,
   "metadata": {},
   "outputs": [
    {
     "name": "stdout",
     "output_type": "stream",
     "text": [
      "Files already downloaded and verified\n",
      "Testing batch_size=1, num_workers=0, pin_memory=True\n",
      "all time: 18.56 seconds\n",
      "Testing batch_size=1, num_workers=0, pin_memory=False\n",
      "all time: 27.19 seconds\n",
      "Testing batch_size=1, num_workers=1, pin_memory=True\n",
      "all time: 137.79 seconds\n",
      "Testing batch_size=1, num_workers=1, pin_memory=False\n",
      "all time: 105.23 seconds\n",
      "Testing batch_size=1, num_workers=4, pin_memory=True\n",
      "all time: 82.17 seconds\n",
      "Testing batch_size=1, num_workers=4, pin_memory=False\n",
      "all time: 81.50 seconds\n",
      "Testing batch_size=1, num_workers=16, pin_memory=True\n"
     ]
    },
    {
     "name": "stderr",
     "output_type": "stream",
     "text": [
      "c:\\Users\\Kim\\anaconda3\\envs\\cs231n\\lib\\site-packages\\torch\\utils\\data\\dataloader.py:560: UserWarning: This DataLoader will create 16 worker processes in total. Our suggested max number of worker in current system is 8 (`cpuset` is not taken into account), which is smaller than what this DataLoader is going to create. Please be aware that excessive worker creation might get DataLoader running slow or even freeze, lower the worker number to avoid potential slowness/freeze if necessary.\n",
      "  warnings.warn(_create_warning_msg(\n"
     ]
    },
    {
     "name": "stdout",
     "output_type": "stream",
     "text": [
      "all time: 144.47 seconds\n",
      "Testing batch_size=1, num_workers=16, pin_memory=False\n",
      "all time: 1132.18 seconds\n",
      "Testing batch_size=4, num_workers=0, pin_memory=True\n",
      "all time: 11.96 seconds\n",
      "Testing batch_size=4, num_workers=0, pin_memory=False\n",
      "all time: 10.55 seconds\n",
      "Testing batch_size=4, num_workers=1, pin_memory=True\n",
      "all time: 19.04 seconds\n",
      "Testing batch_size=4, num_workers=1, pin_memory=False\n",
      "all time: 19.05 seconds\n",
      "Testing batch_size=4, num_workers=4, pin_memory=True\n",
      "all time: 19.28 seconds\n",
      "Testing batch_size=4, num_workers=4, pin_memory=False\n",
      "all time: 19.69 seconds\n",
      "Testing batch_size=4, num_workers=16, pin_memory=True\n",
      "all time: 64.43 seconds\n",
      "Testing batch_size=4, num_workers=16, pin_memory=False\n",
      "all time: 56.71 seconds\n",
      "Testing batch_size=64, num_workers=0, pin_memory=True\n",
      "all time: 10.32 seconds\n",
      "Testing batch_size=64, num_workers=0, pin_memory=False\n",
      "all time: 9.22 seconds\n",
      "Testing batch_size=64, num_workers=1, pin_memory=True\n",
      "all time: 13.97 seconds\n",
      "Testing batch_size=64, num_workers=1, pin_memory=False\n",
      "all time: 13.10 seconds\n",
      "Testing batch_size=64, num_workers=4, pin_memory=True\n",
      "all time: 20.14 seconds\n",
      "Testing batch_size=64, num_workers=4, pin_memory=False\n",
      "all time: 19.15 seconds\n",
      "Testing batch_size=64, num_workers=16, pin_memory=True\n",
      "all time: 53.16 seconds\n",
      "Testing batch_size=64, num_workers=16, pin_memory=False\n",
      "all time: 51.71 seconds\n",
      "Testing batch_size=1024, num_workers=0, pin_memory=True\n",
      "all time: 6.13 seconds\n",
      "Testing batch_size=1024, num_workers=0, pin_memory=False\n",
      "all time: 5.55 seconds\n",
      "Testing batch_size=1024, num_workers=1, pin_memory=True\n",
      "all time: 8.77 seconds\n",
      "Testing batch_size=1024, num_workers=1, pin_memory=False\n",
      "all time: 8.74 seconds\n",
      "Testing batch_size=1024, num_workers=4, pin_memory=True\n",
      "all time: 15.88 seconds\n",
      "Testing batch_size=1024, num_workers=4, pin_memory=False\n",
      "all time: 15.75 seconds\n",
      "Testing batch_size=1024, num_workers=16, pin_memory=True\n",
      "all time: 50.76 seconds\n",
      "Testing batch_size=1024, num_workers=16, pin_memory=False\n",
      "all time: 50.29 seconds\n"
     ]
    }
   ],
   "source": [
    "import torch\n",
    "import torchvision\n",
    "import time\n",
    "\n",
    "train_data = torchvision.datasets.CIFAR10(\"./data\", train=True, transform=torchvision.transforms.ToTensor(), download=True)\n",
    "\n",
    "def count_time(loader):\n",
    "    test = 0\n",
    "    alist = []\n",
    "    start_time = time.time()\n",
    "    for batch_idx, (data, target) in enumerate(loader):\n",
    "        # 随便测试一下\n",
    "        test += batch_idx\n",
    "        alist.append((data, target))\n",
    "    end_time = time.time()\n",
    "    return end_time - start_time\n",
    "\n",
    "batch_sizes = [1, 4, 64, 1024]\n",
    "num_workers_values = [0, 1, 4, 16]\n",
    "pin_memory_values = [True, False] \n",
    "\n",
    "for batch_size in batch_sizes:\n",
    "    for num_workers in num_workers_values:\n",
    "        for pin_memory in pin_memory_values:\n",
    "            print(f\"Testing batch_size={batch_size}, num_workers={num_workers}, pin_memory={pin_memory}\")\n",
    "            # 创建DataLoader\n",
    "            train_loader = torch.utils.data.DataLoader(train_data, batch_size=batch_size, shuffle=True, num_workers=num_workers, pin_memory=pin_memory)\n",
    "            \n",
    "            # 运行一个epoch\n",
    "            all_time = count_time(train_loader)\n",
    "            print(f\"all time: {all_time:.2f} seconds\")\n"
   ]
  },
  {
   "cell_type": "markdown",
   "metadata": {},
   "source": [
    "#### 20. Calculate the mean and std of CIFAR-10’ training set within each RGB channel"
   ]
  },
  {
   "cell_type": "code",
   "execution_count": 12,
   "metadata": {},
   "outputs": [
    {
     "name": "stdout",
     "output_type": "stream",
     "text": [
      "Files already downloaded and verified\n",
      "Files already downloaded and verified\n",
      "均值: [0.49139969 0.48215842 0.44653093]\n",
      "标准差: [0.24703224 0.24348513 0.26158784]\n"
     ]
    }
   ],
   "source": [
    "import torchvision \n",
    "import torch\n",
    "import numpy as np\n",
    "train_data = torchvision.datasets.CIFAR10(\"./data\", train=True, transform=torchvision.transforms.ToTensor(), download=True)\n",
    "test_data = torchvision.datasets.CIFAR10(\"./data\", train=False, transform=torchvision.transforms.ToTensor(), download=True)\n",
    "\n",
    "# 第一种方法：直接计算\n",
    "mean = np.zeros(3)\n",
    "std = np.zeros(3)\n",
    "total_images = len(train_data)\n",
    "\n",
    "for image, _ in train_data:\n",
    "    mean += np.mean(image.numpy(), axis=(1, 2))  \n",
    "\n",
    "mean /= total_images\n",
    "\n",
    "for image, _ in train_data:\n",
    "    std += np.sum((image.numpy() - mean.reshape(3, 1, 1)) ** 2, axis=(1, 2))  # 沿着H和W轴计算每个通道的像素值的平方差\n",
    "\n",
    "std = np.sqrt(std / (total_images * 32 * 32))\n",
    "\n",
    "print(\"均值:\", mean)\n",
    "print(\"标准差:\", std)"
   ]
  },
  {
   "cell_type": "code",
   "execution_count": 18,
   "metadata": {},
   "outputs": [
    {
     "name": "stdout",
     "output_type": "stream",
     "text": [
      "均值 tensor([0.4914, 0.4822, 0.4465])\n",
      "标准差: tensor([0.2470, 0.2435, 0.2616])\n"
     ]
    }
   ],
   "source": [
    "# 第二种方法：调包\n",
    "stacked_images = torch.stack([image for image, _ in train_data], dim=0)\n",
    "\n",
    "mean = stacked_images.mean(dim=(0, 2, 3))\n",
    "std = stacked_images.std(dim=(0, 2, 3))\n",
    "\n",
    "print(\"均值\", mean)\n",
    "print(\"标准差:\", std)"
   ]
  },
  {
   "cell_type": "markdown",
   "metadata": {},
   "source": [
    "#### 21.Image to character painting\n",
    "\n",
    "(a) Target\n",
    "Converting the RGB color image to character painting with Python code\n",
    "\n",
    "• Character painting is a combination of a series of characters. We can think of characters as relatively\n",
    "large pixels. A character can represent a color. The more types of characters, the more colors can\n",
    "be represented, and the picture will be more hierarchical sense\n",
    "\n",
    "(b) Requirements\n",
    "\n",
    "• Python 3.5\n",
    "\n",
    "• pillow 5.1.0\n",
    "\n",
    "(c) Method\n",
    "\n",
    "i. Use PIL (pillow) to get the input picture\n",
    "\n",
    "ii. Use the following formula to map RGB values to gray values (note that this formula is not a real\n",
    "algorithm, but a simplified sRGB IEC61966-2.1 formula)\n",
    "\n",
    "• gray = 0.2126 * r + 0.7152 * g + 0.0722 * b\n",
    "\n",
    "iii. Create a character list (length and content are customized)\n",
    "\n",
    "iv. Map the gray value to characters and save the result with a string (note the corresponding picture\n",
    "size, add line breaks)\n",
    "\n",
    "v. Export character painting to a .txt file\n",
    "\n",
    "(d) Result"
   ]
  },
  {
   "cell_type": "code",
   "execution_count": 2,
   "metadata": {},
   "outputs": [
    {
     "name": "stdout",
     "output_type": "stream",
     "text": [
      "                                                                                                    \n",
      "                                                                                                    \n",
      "                                                                                                    \n",
      "                                                                                                    \n",
      "                                                                                                    \n",
      "                                                       ###*                                         \n",
      "                                          %%%       %****#####                                      \n",
      "                                       ########%   ***##########                                    \n",
      "                                     %###########+**##############                                  \n",
      "                                  %%%######%%%%##**########%#######*                                \n",
      "                                 %%%#####%%%%%%%#############%##*###*                               \n",
      "                                #%%#####%%#######################**###                              \n",
      "                               #%######%%############*****########**##*                             \n",
      "                              %%###################************####**##*                            \n",
      "                             #%%###################*************###***#**                           \n",
      "                            %#%###############********+++++******###**###                           \n",
      "                            #%###############*+++***+=---.-=******###**###                          \n",
      "                           #################+=--=++++==---..=*****####**###                         \n",
      "                          #################*===+**#*****++=-.=*****####*####                        \n",
      "                          ################*==+**#####****++=--+*****###**###                        \n",
      "                         ################*+=+*#########****++--******########                       \n",
      "                         ################*=+*###########****++-=*****########                       \n",
      "                        #################++*##############***+=-+*****########                      \n",
      "                        ################*+*###############***++==*****########*                     \n",
      "                       #################+**#################**+==******########                     \n",
      "                       ################*+*#%%%%%%#########%%%##*=+*****#########                    \n",
      "                      #################**#%%%%%%%%#######%%%%%##++******########                    \n",
      "                      #################*#%%%%%%%%%%#####%%%%%%%%#+******########*                   \n",
      "                      ##*################%%%%%%%%%%%###%%%%%%%%%#***********#####                   \n",
      "                     ###*#################%%%%%%%%%%#*##%%%%%%#%#*****++==++**###                   \n",
      "                     ##*##################%#+*+%%%%%#*####%%*==+#*+++=======++*###                  \n",
      "                     ##***#################=.- =%%%%%#####%#-.-.*#++=========+*###                  \n",
      "                    ##*******##############.   .#%%%%######*.  .=#*=---=====+**###                  \n",
      "                    ##**++****#############.   .############.   +##+-..-==++***###                  \n",
      "                    ##*+====++**######**###+   +#####***####+..-##**=-.=+++****###                  \n",
      "                    ***++=----=+***###*****#*+*#####+-******#**##***+=.=++*******#                  \n",
      "                    ***+++=-. .-=+***#*+*****#######+=+*******#******= -+********                   \n",
      "                    ****++==-  ..-=+***+************++=*************+.  +*****++                    \n",
      "                     ++++++=. ......====+++********++++=+*++++******=...-+**++*                     \n",
      "                      ++++=+-.......-====+++++++*+++***++++++++++***-...-=+++                       \n",
      "                        ++* =.......-==++==++++++++++****+++++++****-..--+                          \n",
      "                            +-......-+++++=====++++++******++++****+.---=*                          \n",
      "                            #=-.....-+++++*++=++++++++******+******=.---+%                          \n",
      "                             +-.....-++++**+==++++++++****++++*****=.--=+                           \n",
      "                             *=.....-+++++++====+++++++*++++++*****=.--=                            \n",
      "                              +-....=++++++++=--====++++++==+******+.-=+                            \n",
      "                             #.--..-+++++++++=--------====-=++++++++===%                            \n",
      "                             =  -=====++++++++=-----------=++++++++++-.=                            \n",
      "                            %-.  ..---==========-......--==+++++++==.  -                            \n",
      "                            %....    ....---=====-------==========-    -                            \n",
      "                             -             ....--------=======---.    .-                            \n",
      "                             %.                   ....-------...     ..=                            \n",
      "                              %.                     .......      ....-%                            \n",
      "                           *--..                       ...........   .=                             \n",
      "                        *=-.    -.                                  .=                              \n",
      "                      =-..      -+.                                 =-=                             \n",
      "                    +-.......   .*+                              ..=*.-+                            \n",
      "                  *-..........   +#-                           ...-#*.-=%                           \n",
      "                 =-............. -##-.                        ...=#%=..-=                           \n",
      "                =.................*#*+=.                       .+#%%-...-%                          \n",
      "               -........       .. =%#-+*-                     -*+=%#  ..-+                          \n",
      "              +.....              -##- -**=.                .+*= +%+   ..=                          \n",
      "              =....               .#%=   -+*+-.          .-+*=.  *%=    .-%                         \n",
      "              =.                   *%=     .=+**+==---=++*+-.   .*%=    .-%                         \n",
      "              +.                   +%+         -=++**++=-.      .*%-     .+                         \n",
      "               =. ..--.----.       +%+             -=           .##.     .+                         \n",
      "              +=====+=.===---.     =#*           .+**+.         .##.     .+                         \n",
      "             *+=+++++=.=====-..    -#*           .###%=         -#*.     .+                         \n",
      "             ++-+++++=-=+===-.-    -#*           -####=         -#+      .+                         \n",
      "             ++==+++++-=++==.--.   .#*           -####=         -#=      .%                         \n",
      "            *++=-+++++=-+++.---.   .#*           -####-         -#-=.    -                          \n",
      "            ++++=-+++++-++=-==--.--.*+           .****.         =#+*.   .-                          \n",
      "            +=+++-=++++=-==+==--.-++**                         .+###.   .#                          \n",
      "            ======-=++++-.+====-..=+*+=.                      =**###=...=                           \n",
      "            =======-==+=-=-----...=+++**+-                  -+####*% %%                             \n",
      "            =-======-==-=+==----.-==+++***+=-.         ..-=+##****#                                 \n",
      "            +========--========--%==+++++++**++========++*********#                                 \n",
      "             ===-====..=======--- ===++++++++++++++********++*****                                  \n",
      "             +==-----==.-====---  ===++++++++++++++++++++++++++**#                                  \n",
      "              ===-..====-.-=----  ===++======+++++++++++++++++**##                                  \n",
      "               =-.---====-...--    ==++++========++++=====++++*##                                   \n",
      "               *--==--=-------     +=+++++++=====++++====++++**##                                   \n",
      "                 ===--------=       =++++++++++=     ===+++++*#*#                                   \n",
      "                   +=======#        ==++++++++==     ===+++*****                                    \n",
      "                                    =..-==++++=      --===++=--+                                    \n",
      "                                    -     ..--=      *...   ...-*                                   \n",
      "                                   +        ..        .     .---=                                   \n",
      "                                   -   ..   .-        =    .-----%                                  \n",
      "                                   -    ... .*         .    ....-%                                  \n",
      "                                   =        .          %.      ..%                                  \n",
      "                                    -      .+           -.    ..-                                   \n",
      "                                     *----=%             +=====                                     \n",
      "                                                                                                    \n",
      "                                                                                                    \n",
      "                                                                                                    \n",
      "                                                                                                    \n",
      "                                                                                                    \n",
      "                                                                                                    \n",
      "                                                                                                    \n",
      "                                                                                                    \n",
      "\n"
     ]
    }
   ],
   "source": [
    "from torchvision import transforms\n",
    "from PIL import Image\n",
    "Img_path = \"kunkun.png\"\n",
    "img = Image.open(Img_path)\n",
    "img = img.resize((100,100))\n",
    "\n",
    "# 因为传进来的图像带alpha 不管第四维度\n",
    "def grey(rgb):\n",
    "    r, g, b, alpha = rgb\n",
    "    return int(0.2126 * r + 0.7152 * g + 0.0722 * b)\n",
    "\n",
    "char_list = [' ', '.', '-', '=', '+', '*', '#', '%', '@']\n",
    "\n",
    "string_list = \"\"\n",
    "for i in range(100):\n",
    "    for j in range(100):\n",
    "        pixel = img.getpixel((j, i))\n",
    "        gray_value = grey(pixel)\n",
    "        char_index = int(gray_value / 32)  \n",
    "        string_list += char_list[char_index]\n",
    "    string_list += '\\n'  \n",
    "\n",
    "print(string_list)\n",
    "output_file = \"kunkun_output.txt\"\n",
    "with open(output_file, \"w\") as f:\n",
    "    f.write(string_list)\n",
    "\n"
   ]
  },
  {
   "cell_type": "markdown",
   "metadata": {},
   "source": [
    "#### Numpy exercises\n",
    "\n",
    "• Consider a random 10x2 matrix representing cartesian coordinates, convert them to polar coordinates.\n",
    "\n",
    "• Create a 2D array subclass such that Z[i, j] == Z[j, i].\n",
    "\n",
    "• Consider 2 sets of points P0, P1 describing lines (2d) and a set of points P, how to compute distance\n",
    "from each point j (P[j]) to each line i (P0[i],P1[i])?"
   ]
  },
  {
   "cell_type": "code",
   "execution_count": 44,
   "metadata": {},
   "outputs": [
    {
     "name": "stdout",
     "output_type": "stream",
     "text": [
      "---------- Cartesian coordinates ----------\n",
      "[[0.6127378  0.28261539]\n",
      " [0.49158511 0.30232513]\n",
      " [0.63935336 0.47756602]\n",
      " [0.41758387 0.17630063]\n",
      " [0.83715064 0.50511601]\n",
      " [0.18431041 0.42481786]\n",
      " [0.02115679 0.2076825 ]\n",
      " [0.88450886 0.84767295]\n",
      " [0.65883019 0.19710949]\n",
      " [0.69848268 0.37527833]]\n",
      "---------- Polar coordinates ----------\n",
      "Radius (r): [0.67477335 0.57711039 0.79802382 0.45327497 0.9777338  0.46307726\n",
      " 0.20875735 1.22511443 0.68768406 0.79291354]\n",
      "Angle (theta): [0.4321566  0.55137638 0.64154729 0.39948996 0.54289764 1.16144729\n",
      " 1.46927573 0.76413575 0.29070527 0.49302224]\n"
     ]
    }
   ],
   "source": [
    "import numpy as np\n",
    "\n",
    "random_array = np.random.rand(10, 2)\n",
    "\n",
    "x = random_array[:, 0]\n",
    "y = random_array[:, 1]\n",
    "\n",
    "r = np.sqrt(x**2 + y**2)\n",
    "theta = np.arctan2(y, x)\n",
    "\n",
    "# Display results\n",
    "print(\"-\"*10, \"Cartesian coordinates\", \"-\"*10)\n",
    "print(random_array)\n",
    "print(\"-\"*10, \"Polar coordinates\",\"-\"*10)\n",
    "print(\"Radius (r):\", r)\n",
    "print(\"Angle (theta):\", theta)\n"
   ]
  },
  {
   "cell_type": "code",
   "execution_count": 50,
   "metadata": {},
   "outputs": [
    {
     "name": "stdout",
     "output_type": "stream",
     "text": [
      "[[0.76223453 0.87779993 0.6876956 ]\n",
      " [0.23886274 0.20037418 0.40565415]\n",
      " [0.73022614 0.56945033 0.09270032]]\n",
      "[[0.76223453 0.87779993 0.6876956 ]\n",
      " [0.87779993 0.20037418 0.40565415]\n",
      " [0.6876956  0.40565415 0.09270032]]\n"
     ]
    }
   ],
   "source": [
    "import numpy as np\n",
    "\n",
    "class SymmetricArray(np.ndarray):\n",
    "    def __new__(cls, input_array):\n",
    "        obj = np.asarray(input_array).view(cls)\n",
    "        return obj\n",
    "\n",
    "    def __getitem__(self, key):\n",
    "        i, j = key\n",
    "        return super().__getitem__((i, j)) if i <= j else super().__getitem__((j, i))\n",
    "\n",
    "\n",
    "original_array = np.random.rand(3, 3)\n",
    "print(\"原来的：\",original_array)\n",
    "\n",
    "symmetric_array = SymmetricArray(original_array)\n",
    "print(\"转换后的：\",symmetric_array)\n",
    "\n",
    "\n"
   ]
  },
  {
   "cell_type": "code",
   "execution_count": 55,
   "metadata": {},
   "outputs": [
    {
     "name": "stdout",
     "output_type": "stream",
     "text": [
      "原来的： [[0.03523735 0.89525792 0.46519499]\n",
      " [0.75824298 0.9560845  0.27916662]\n",
      " [0.680089   0.98621053 0.98999323]]\n",
      "转换后的： [[0.03523735 0.89525792 0.46519499]\n",
      " [0.89525792 0.9560845  0.27916662]\n",
      " [0.46519499 0.27916662 0.98999323]]\n"
     ]
    }
   ],
   "source": [
    "import numpy as np\n",
    "\n",
    "class SymmetricArray():\n",
    "    def __init__(self, input_array):\n",
    "        self.data = np.asarray(input_array)\n",
    "\n",
    "    def get_array(self):\n",
    "        h, w = self.data.shape\n",
    "        final = np.zeros((h, w))\n",
    "        for i in range(h):\n",
    "            for j in range(w):\n",
    "                if i < j:\n",
    "                    final[i,j] = self.data[i,j]\n",
    "                else:\n",
    "                    final[i,j] = self.data[j,i]\n",
    "        return final\n",
    "\n",
    "original_array = np.random.rand(3, 3)\n",
    "print(\"原来的：\",original_array)\n",
    "symmetric_array = SymmetricArray(original_array)\n",
    "print(\"转换后的：\",symmetric_array.get_array())\n"
   ]
  },
  {
   "cell_type": "markdown",
   "metadata": {},
   "source": [
    "#### 23. Bilinear Interpolation\n",
    "Please implement the bilinear interpolation algorithm using python. Check this for an introduction to bilinear\n",
    "interpolation.\n",
    "\n",
    "Test samples:\n",
    "A =\n",
    "((110, 120, 130),\n",
    "(210, 220, 230),\n",
    "(310, 320, 330))\n",
    "\n",
    "BilinearInterpolation(A, (1, 1)) == 110\n",
    "\n",
    "BilinearInterpolation(A, (2.5, 2.5)) == 275"
   ]
  },
  {
   "cell_type": "code",
   "execution_count": 60,
   "metadata": {},
   "outputs": [
    {
     "name": "stdout",
     "output_type": "stream",
     "text": [
      "110.0\n",
      "275.0\n"
     ]
    }
   ],
   "source": [
    "def BilinearInterpolation(source, point):\n",
    "    x, y = point\n",
    "    x1, y1 = int(x) - 1 , int(y) - 1\n",
    "    x2, y2 = int(x)  , int(y)\n",
    "    x -= 1\n",
    "    y -= 1\n",
    "\n",
    "    Q11 = source[y1][x1]\n",
    "    Q12 = source[y2][x1]\n",
    "    Q21 = source[y1][x2]\n",
    "    Q22 = source[y2][x2]\n",
    "\n",
    "\n",
    "    R1 = ((x2 - x) / (x2 - x1)) * Q11 + ((x - x1) / (x2 - x1)) * Q21\n",
    "    R2 = ((x2 - x) / (x2 - x1)) * Q12 + ((x - x1) / (x2 - x1)) * Q22\n",
    "    P = ((y2 - y) / (y2 - y1)) * R1 + ((y - y1) / (y2 - y1)) * R2\n",
    "\n",
    "    return  P\n",
    "\n",
    "\n",
    "A = ((110, 120, 130), (210, 220, 230), (310, 320, 330))\n",
    "\n",
    "\n",
    "print(BilinearInterpolation(A, (1, 1)))   # Expected output: 110\n",
    "print(BilinearInterpolation(A, (2.5, 2.5))) # Expected output: 275\n",
    "\n"
   ]
  },
  {
   "cell_type": "markdown",
   "metadata": {},
   "source": [
    "#### 24. Cartesian product\n",
    "Given an arbitrary number of vectors, build the cartesian product (every combinations of every item).\n",
    "\n",
    "e.g. [1, 2, 3], [4, 5], [6, 7] ==> [[1 4 6] [1 4 7] [1 5 6] [1 5 7] [2 4 6] [2 4 7] [2 5 6] [2 5 7] [3 4 6] [3 4 7] [3 5 6]\n",
    "[3 5 7]]"
   ]
  },
  {
   "cell_type": "code",
   "execution_count": 9,
   "metadata": {},
   "outputs": [
    {
     "name": "stdout",
     "output_type": "stream",
     "text": [
      "[[1, 4, 6], [1, 4, 7], [1, 5, 6], [1, 5, 7], [2, 4, 6], [2, 4, 7], [2, 5, 6], [2, 5, 7], [3, 4, 6], [3, 4, 7], [3, 5, 6], [3, 5, 7]]\n"
     ]
    }
   ],
   "source": [
    "def cartesian_product(*vectors):\n",
    "    if not vectors:\n",
    "        return [[]]\n",
    "    \n",
    "    result = []\n",
    "    first_vector = vectors[0]\n",
    "    remaining_vectors = vectors[1:]\n",
    "    \n",
    "    for item in first_vector:\n",
    "        result.extend([[item,] + prod for prod in cartesian_product(*remaining_vectors)])\n",
    "    \n",
    "    return result\n",
    "\n",
    "\n",
    "#eg:\n",
    "vectors = [[1, 2, 3], [4, 5], [6, 7]]\n",
    "result = cartesian_product(*vectors)\n",
    "print(result)\n"
   ]
  },
  {
   "cell_type": "markdown",
   "metadata": {},
   "source": [
    "#### 25. Extracting a subpart of an array\n",
    "\n",
    "Consider an arbitrary array, write a function that extract a subpart with a fixed shape and centered on a given element (pad with a fill value when necessary)\n",
    "\n",
    "e.g.\n",
    "\n",
    "In:\n",
    ">> Z = np.random.randint(0, 10, (5, 5))\n",
    "\n",
    ">> shape = (4, 4)\n",
    "\n",
    ">> fill = 0\n",
    "\n",
    ">> position = (1,1)\n",
    "\n",
    ">> Z\n",
    "[[3 6 8 5 9]\n",
    "[4 9 0 0 9]\n",
    "[6 1 4 0 8]\n",
    "[9 1 2 0 9]\n",
    "[4 1 7 5 0]]\n",
    "\n",
    "Out:\n",
    "[[0 0 0 0]\n",
    "[0 3 6 8]\n",
    "[0 4 9 0]\n",
    "[0 6 1 4]]\n"
   ]
  },
  {
   "cell_type": "code",
   "execution_count": 32,
   "metadata": {},
   "outputs": [
    {
     "name": "stdout",
     "output_type": "stream",
     "text": [
      "Input:\n",
      " [[4 7 3 3 0]\n",
      " [2 9 9 1 9]\n",
      " [0 0 4 1 7]\n",
      " [3 0 0 5 6]\n",
      " [5 7 2 3 6]]\n",
      "Output:\n",
      " [[0 0 0 0]\n",
      " [0 4 7 3]\n",
      " [0 2 9 9]\n",
      " [0 0 0 4]]\n"
     ]
    }
   ],
   "source": [
    "import numpy as np\n",
    "\n",
    "def extracting_subpart(input_array, shape, fill_value, position):\n",
    "    h_tgt, w_tgt = shape\n",
    "    h, w = input_array.shape\n",
    "    i, j = position\n",
    "    \n",
    "    center_width = min(i, j, (h - i - 1), (w - j - 1))\n",
    "    \n",
    "    result = np.full(shape, fill_value)\n",
    "\n",
    "    if center_width != 0:\n",
    "\n",
    "        top = max(0, j - center_width)\n",
    "        bottom = min(h, j + center_width + 1)\n",
    "        left = max(0, i - center_width)\n",
    "        right = min(w, i + center_width + 1)\n",
    "        \n",
    "        top_offset = max(0, (h_tgt - (bottom - top)) // 2 + 1)\n",
    "        left_offset = max(0, (w_tgt - (right - left)) // 2 + 1)\n",
    "        \n",
    "        subpart = input_array[top:bottom, left:right]\n",
    "        h_sub, w_sub = subpart.shape\n",
    "        result[top_offset:top_offset+h_sub, left_offset:left_offset+w_sub] = subpart\n",
    "        \n",
    "    return result\n",
    "\n",
    "#eg:\n",
    "Z = np.random.randint(0, 10, (5, 5))\n",
    "shape = (4, 4)\n",
    "fill = 0\n",
    "position = (1, 1)\n",
    "print(\"Input:\\n\", Z)\n",
    "output = extracting_subpart(Z, shape, fill, position)\n",
    "print(\"Output:\\n\",output)\n"
   ]
  },
  {
   "cell_type": "markdown",
   "metadata": {},
   "source": [
    "#### 26. Matrix operations\n",
    "Please implement following matrix (just 2D) operations without numpy:\n",
    "\n",
    "• add\n",
    "\n",
    "• subtract\n",
    "\n",
    "• scalar multiply\n",
    "\n",
    "• multiply\n",
    "\n",
    "• identity\n",
    "\n",
    "• transpose\n",
    "\n",
    "• inverse\n",
    "\n",
    "Test samples:\n",
    "\n",
    "In:\n",
    ">> matrix_a = [[12, 10], [3, 9]]\n",
    ">> matrix_b = [[3, 4], [7, 4]]\n",
    ">> matrix_c = [[11, 12, 13, 14], [21, 22, 23, 24], [31, 32, 33, 34], [41, 42, 43, 44]]\n",
    ">> matrix_d = [[3, 0, 2], [2, 0, -2], [0, 1, 1]]\n",
    "\n",
    "Out:\n",
    "\n",
    "add(matrix_a, matrix_b) == [[15, 14], [10, 13]]\n",
    "\n",
    "subtract(matrix_a, matrix_b) == [[9, 6], [-4, 5]]\n",
    "\n",
    "scalar_multiply(matrix_b, 3) == [[9, 12], [21, 12]]\n",
    "\n",
    "multiply(matrix_a, matrix_b) == [[106, 88], [72, 48]]\n",
    "\n",
    "identity(3) == [[1, 0, 0], [0, 1, 0], [0, 0, 1]]\n",
    "\n",
    "transpose(matrix_c) == [[11, 21, 31, 41], [12, 22, 32, 42], [13, 23, 33, 43], [14, 24, 34, 44]]\n",
    "\n",
    "inverse(matrix_d) == [[0.2, 0.2, 0.0], [-0.2, 0.30000000000000004, 1.0], [0.2, -0.30000000000000004, 0.0]"
   ]
  },
  {
   "cell_type": "code",
   "execution_count": 17,
   "metadata": {},
   "outputs": [
    {
     "name": "stdout",
     "output_type": "stream",
     "text": [
      "add(matrix_a, matrix_b) == [[15, 14], [10, 13]]\n",
      "subtract(matrix_a, matrix_b) == [[9, 6], [-4, 5]]\n",
      "scalar_multiply(matrix_b, 3) ==  [[9, 12], [21, 12]]\n",
      "multiply(matrix_a, matrix_b) == [[106, 88], [72, 48]]\n",
      "identity(3) ==  [[1, 0, 0], [0, 1, 0], [0, 0, 1]]\n",
      "transpose matrix_c ==  [[11, 21, 31, 41], [12, 22, 32, 42], [13, 23, 33, 43], [14, 24, 34, 44]]\n",
      "inverse(matrix_d) ==  [[0.2, 0.2, 0.0], [-0.2, 0.3, 1.0], [0.2, -0.3, 0.0]]\n"
     ]
    }
   ],
   "source": [
    "matrix_a = [[12, 10], [3,9]]\n",
    "matrix_b = [[3,4], [7,4]]\n",
    "matrix_c = [[11, 12, 13, 14], [21, 22, 23, 24], [31, 32, 33, 34], [41, 42, 43, 44]]\n",
    "matrix_d = [[3, 0, 2], [2, 0, -2], [0, 1, 1]]\n",
    "## add\n",
    "def add(a1, a2):\n",
    "    h = len(a1)\n",
    "    result = []\n",
    "    for i in range(h):\n",
    "        result.append([x + y for x, y in zip(a1[i], a2[i])])\n",
    "    return result\n",
    "\n",
    "print(\"add(matrix_a, matrix_b) ==\", add(matrix_a, matrix_b))\n",
    "\n",
    "## subtract\n",
    "\n",
    "def subtract(a1, a2):\n",
    "    h = len(a1)\n",
    "    result = []\n",
    "    for i in range(h):\n",
    "        result.append([x - y for x, y in zip(a1[i], a2[i])])\n",
    "    return result\n",
    "\n",
    "print(\"subtract(matrix_a, matrix_b) ==\", subtract(matrix_a, matrix_b))\n",
    "\n",
    "# scalar_multiply\n",
    "def scalar_multiply(a, c):\n",
    "    h = len(a)\n",
    "    result = []\n",
    "    for i in range(h):\n",
    "        result.append([c*x for x in a[i]])\n",
    "    return result\n",
    "\n",
    "print(\"scalar_multiply(matrix_b, 3) == \", scalar_multiply(matrix_b, 3))\n",
    "\n",
    "# multiply\n",
    "\n",
    "def multiply(a1, a2):\n",
    "    h = len(a1)\n",
    "    w = len(a1[0])\n",
    "    result = []\n",
    "    \n",
    "    for i in range(h):\n",
    "        row = []\n",
    "        for j in range(w):\n",
    "            row.append(sum(x * y for x, y in zip(a1[i], [row[j] for row in a2])))\n",
    "        result.append(row)\n",
    "    return result\n",
    "\n",
    "\n",
    "print(\"multiply(matrix_a, matrix_b) ==\", multiply(matrix_a, matrix_b))\n",
    "\n",
    "\n",
    "# identity\n",
    "\n",
    "def identity(shape):\n",
    "    result = []\n",
    "    for i in range(shape):\n",
    "        row = [0]*shape\n",
    "        row[i] = 1\n",
    "        result.append(row)\n",
    "    return result\n",
    "\n",
    "print(\"identity(3) == \", identity(3))\n",
    "\n",
    "# transpose\n",
    "\n",
    "def transpose(a):\n",
    "    h = len(a)\n",
    "    result = []\n",
    "    for i in range(h):\n",
    "        row = []\n",
    "        for j in range(h):\n",
    "            row.append(a[j][i])\n",
    "        result.append(row)\n",
    "    return result\n",
    "\n",
    "print(\"transpose matrix_c == \", transpose(matrix_c))\n",
    "\n",
    "# inverse\n",
    "def inverse(b):\n",
    "    def determinant(a):\n",
    "        if len(a) == 1:\n",
    "            return a[0][0]\n",
    "\n",
    "        if len(a) == 2:\n",
    "            return a[0][0] * a[1][1] - a[0][1] * a[1][0]\n",
    "        \n",
    "        det = 0\n",
    "        for j in range(len(a)): # 第一行展开\n",
    "            co = a[0][j] * ((-1) ** j) * determinant(minor(a, 0, j))\n",
    "            det += co\n",
    "\n",
    "        return det\n",
    "    \n",
    "    def minor(b, row, col):\n",
    "        return [row[:col] + row[col+1:] for row in (b[:row] + b[row+1:])]\n",
    "\n",
    "    det_A = determinant(b)\n",
    "\n",
    "    n = len(b)\n",
    "    adj_matrix = []\n",
    "\n",
    "    for i in range(n):\n",
    "        row = []\n",
    "        for j in range(n):\n",
    "            co = determinant(minor(b, i, j))\n",
    "            sign = (-1) ** (i + j)\n",
    "            row.append(co * sign)\n",
    "        adj_matrix.append(row)\n",
    "\n",
    "    adj_matrix = transpose(adj_matrix)\n",
    "\n",
    "    inverse_matrix = [[adj_matrix[i][j] / det_A for j in range(n)] for i in range(n)]\n",
    "\n",
    "    return inverse_matrix\n",
    "\n",
    "\n",
    "print(\"inverse(matrix_d) == \", inverse(matrix_d))\n"
   ]
  },
  {
   "cell_type": "markdown",
   "metadata": {},
   "source": [
    "#### 27. Greatest common divisor\n",
    "Find the greatest common divisor(gcd) of two integers.\n",
    "\n",
    "Test samples:\n",
    "\n",
    "• GCD(3, 5) = 1\n",
    "\n",
    "• GCD(6, 3) = 3\n",
    "\n",
    "• GCD(-2, 6) = 2\n",
    "\n",
    "• GCD(0, 3) = 3"
   ]
  },
  {
   "cell_type": "code",
   "execution_count": 18,
   "metadata": {},
   "outputs": [
    {
     "name": "stdout",
     "output_type": "stream",
     "text": [
      "GCD(3,5) = 1\n",
      "GCD(6,3) = 3\n",
      "GCD(-2,6) = 2\n",
      "GCD(0,3) = 3\n"
     ]
    }
   ],
   "source": [
    "# Euclidean Algorithm\n",
    "def GCD(a, b):\n",
    "    while b != 0:\n",
    "        a, b = b, a % b\n",
    "    return a\n",
    "\n",
    "print(\"GCD(3,5) =\", GCD(3,5))\n",
    "print(\"GCD(6,3) =\", GCD(6,3))\n",
    "print(\"GCD(-2,6) =\", GCD(-2,6))\n",
    "print(\"GCD(0,3) =\", GCD(0,3))"
   ]
  },
  {
   "cell_type": "markdown",
   "metadata": {},
   "source": [
    "#### 28. Find all consecutive positive number sequences whose sum is N\n",
    "\n",
    "e.g. 18+19...+22 = 9+10+...+16 = 100\n",
    "\n",
    "Find all consecutive positive number sequences whose sum is 1000, and report your results."
   ]
  },
  {
   "cell_type": "code",
   "execution_count": 22,
   "metadata": {},
   "outputs": [
    {
     "name": "stdout",
     "output_type": "stream",
     "text": [
      "Find all consecutive positive number sequences whose sum is 1000:\n",
      "[[198, 199, 200, 201, 202], [55, 56, 57, 58, 59, 60, 61, 62, 63, 64, 65, 66, 67, 68, 69, 70], [28, 29, 30, 31, 32, 33, 34, 35, 36, 37, 38, 39, 40, 41, 42, 43, 44, 45, 46, 47, 48, 49, 50, 51, 52]]\n"
     ]
    }
   ],
   "source": [
    "def find_consecutive_sequences(N):\n",
    "    result = []\n",
    "    for k in range(1, N + 1):\n",
    "        if (2 * N) % k == 0:\n",
    "            x = (2 * N // k - k + 1) // 2\n",
    "            if x > 0 and (2 * x + k - 1) * k // 2 == N:\n",
    "                result.append(list(range(x, x + k)))\n",
    "    return result[1:]\n",
    "\n",
    "#eg:\n",
    "print(\"Find all consecutive positive number sequences whose sum is 1000:\")\n",
    "print(find_consecutive_sequences(1000))"
   ]
  },
  {
   "cell_type": "markdown",
   "metadata": {},
   "source": [
    "#### 29. Password checking\n",
    "A website requires the users to input username and password to register. Write a program to check the validity\n",
    "of password input by users. Following are the criteria for checking the password:\n",
    "\n",
    "• At least 1 letter between [a-z]\n",
    "\n",
    "• At least 1 number between [0-9]\n",
    "\n",
    "• At least 1 letter between [A-Z]\n",
    "\n",
    "• At least 1 character from [$#@]\n",
    "\n",
    "• Minimum length of transaction password: 6\n",
    "\n",
    "• Maximum length of transaction password: 12\n",
    "\n",
    "Your program should accept a sequence of comma separated passwords and will check them according to the\n",
    "above criteria. Passwords that match the criteria are to be printed, each separated by a comma.\n",
    "\n",
    "e.g.\n",
    "\n",
    "If the following passwords are given as input to the program: ABd1234@1,a F1#,2w3E*,2We3345\n",
    "\n",
    "Then, the output of the program should be: ABd1234@1\n",
    "\n"
   ]
  },
  {
   "cell_type": "code",
   "execution_count": 43,
   "metadata": {},
   "outputs": [
    {
     "name": "stdout",
     "output_type": "stream",
     "text": [
      "ABd1234@1\n"
     ]
    }
   ],
   "source": [
    "import re\n",
    "def password_checking(list_input):\n",
    "    result = []\n",
    "    n = len(list_input)\n",
    "    for i in range(n):\n",
    "        password = list_input[i]\n",
    "        if len(list_input[i]) >= 6 and len(list_input[i]) <= 12:\n",
    "            if re.search(r'[a-z]', password) \\\n",
    "                and re.search(r'[0-9]', password) \\\n",
    "                and re.search(r'[A-Z]', password) \\\n",
    "                and re.search(r'[$#@]', password):\n",
    "                    result.append(password)\n",
    "            \n",
    "    return result\n",
    "\n",
    "#eg:\n",
    "# 如果是input 用这个\n",
    "# user_input = input(\"input\")\n",
    "# user_input = list(user_input)\n",
    "input = [\"ABd1234@1\",\"a F1#\", \"2w3E*\", '2We3345']\n",
    "output = password_checking(input)\n",
    "for i in range(len(output)):\n",
    "    print(output[i])\n"
   ]
  }
 ],
 "metadata": {
  "kernelspec": {
   "display_name": "cs231n",
   "language": "python",
   "name": "python3"
  },
  "language_info": {
   "codemirror_mode": {
    "name": "ipython",
    "version": 3
   },
   "file_extension": ".py",
   "mimetype": "text/x-python",
   "name": "python",
   "nbconvert_exporter": "python",
   "pygments_lexer": "ipython3",
   "version": "3.10.12"
  }
 },
 "nbformat": 4,
 "nbformat_minor": 2
}
